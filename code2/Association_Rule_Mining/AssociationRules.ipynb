{
 "cells": [
  {
   "cell_type": "code",
   "execution_count": 2,
   "metadata": {},
   "outputs": [],
   "source": [
    "import pandas as pd\n",
    "import numpy as np\n",
    "import scipy.stats as st"
   ]
  },
  {
   "cell_type": "code",
   "execution_count": null,
   "metadata": {},
   "outputs": [],
   "source": [
    "#df-dataframe original, x y- numpy arrrays , mindif-threshold\n",
    "def window_above(df,x,y,mindif):\n",
    "    #print(x)\n",
    "    last_index=x.size-1\n",
    "    current_index=0\n",
    "    mu=np.mean(y)+mindif\n",
    "    while current_index <= last_index :\n",
    "        while current_index<=last_index and y[current_index]<mu  : \n",
    "                current_index=current_index+1\n",
    "        a=current_index\n",
    "        b=a\n",
    "        while  current_index<=last_index and np.mean(y[a:current_index+1])>=mu :\n",
    "            current_index=current_index+1\n",
    "            if np.mean(y[b:current_index+1])>=mu :\n",
    "                b=current_index\n",
    "        #ztest on D(a,b,mu,mindif)\n",
    "        #D[a..b] mean != D-D[a..b]\n",
    "        \n",
    "        arr1=y[a:b+1]\n",
    "        arr2=np.delete(y, slice(a,b+1))\n",
    "        if arr1.size !=0 and arr2.size!=0 and arr1.size!=1 and arr2.size!=1 :\n",
    "            mu1=np.mean(arr1)\n",
    "            mu2=np.mean(arr2)\n",
    "            sig1=np.std(arr1)\n",
    "            sig2=np.std(arr2)\n",
    "            n1=arr1.size\n",
    "            n2=arr2.size\n",
    "        \n",
    "            z=(mu1-mu2)/np.sqrt(sig1*sig1/n1+sig2*sig2/n2)\n",
    "            pval = 2 * (1 - st.norm.cdf(z))\n",
    "            #print(z)\n",
    "            #print(pval)\n",
    "            if pval<=0.05 and x[a]!=x[b-1]:\n",
    "                print(\"[\"+str(x[a])+\":\"+str(x[b-1])+\"]\"+\">\"+\"mean:\"+str(mu1))#print assoc rule\n",
    "                #print(arr1.shape)\n",
    "                #print(arr2.shape)\n",
    "                window(df,x[a:b+1],y[a:b+1],mindif)\n",
    "    current_index=b+1\n",
    "\n",
    "#debug window_below\n",
    "def window_below(df,x,y,mindif):\n",
    "    #print(x)\n",
    "    last_index=x.size-1\n",
    "    current_index=0\n",
    "    mu=np.mean(y)-mindif\n",
    "    while current_index <= last_index :\n",
    "        while current_index<=last_index and y[current_index]>=mu  : \n",
    "                current_index=current_index+1\n",
    "        a=current_index\n",
    "        b=a\n",
    "        while  current_index<=last_index and np.mean(y[a:current_index+1])<mu :\n",
    "            current_index=current_index+1\n",
    "            if np.mean(y[b:current_index+1])<mu :\n",
    "                b=current_index\n",
    "        #ztest on D(a,b,mu,mindif)\n",
    "        #D[a..b] mean != D-D[a..b]\n",
    "        \n",
    "        arr1=y[a:b+1]\n",
    "        arr2=np.delete(y, slice(a,b+1))\n",
    "        if arr1.size !=0 and arr2.size!=0 and arr1.size!=1 and arr2.size!=1:\n",
    "            mu1=np.mean(arr1)\n",
    "            mu2=np.mean(arr2)\n",
    "            sig1=np.std(arr1)\n",
    "            sig2=np.std(arr2)\n",
    "            n1=arr1.size\n",
    "            n2=arr2.size\n",
    "\n",
    "            z=(mu2-mu1)/np.sqrt(sig1*sig1/n1+sig2*sig2/n2)\n",
    "            #print(\"z:\"+str(z))\n",
    "            #print(\"cdf:\"+str(st.norm.cdf(z)))\n",
    "            pval = 2 * (1 - st.norm.cdf(z))\n",
    "            #print(pval)\n",
    "            if pval<=0.05 and x[a]!=x[b-1]:\n",
    "                print(\"[\"+str(x[a])+\":\"+str(x[b-1])+\"]\"+\"<\"+\"mean:\"+str(mu1))#print assoc rule\n",
    "                window(df,x[a:b+1],y[a:b+1],mindif)\n",
    "    current_index=b+1\n",
    "        \n",
    "        \n",
    "        \n",
    "def window(df,x,y,mindif):\n",
    "    window_above(df,x,y,mindif)\n",
    "    window_below(df,x,y,mindif)\n",
    "\n",
    "    \n",
    "#Choose pairwise attributes b/w which to find interesting rules based on statistical tests(z-tests)    \n",
    "#arr = np.array(df[['pH : Mean : 6.5-8.5','B.O.D. (mg/l) : Mean : < 3 mg/l']])\n",
    "#arr = np.array(df[['CONDUCTIVITY (µmhos/cm) : Mean','NITRATE- N+ NITRITE-N (mg/l) : Mean']])\n",
    "#arr=arr[np.argsort(arr[:, 0])]\n",
    "#x,y = arr[:, :1], arr[:, 1:]\n",
    "#window(df,x,y,2)   "
   ]
  },
  {
   "cell_type": "code",
   "execution_count": 5,
   "metadata": {},
   "outputs": [
    {
     "name": "stdout",
     "output_type": "stream",
     "text": [
      "[[8.4]:[8.7]]>mean:8.992105263157894\n",
      "[[8.4]:[8.5]]<mean:3.4444444444444446\n",
      "[[4.7]:[5.1]]<mean:0.7333333333333334\n",
      "[[5.5]:[7.]]<mean:2.4627160919333333\n",
      "[[7.3]:[7.4]]<mean:2.3176955424390244\n",
      "[[7.6]:[7.7]]<mean:2.840763729185186\n",
      "[[7.8]:[7.9]]<mean:2.3769872957894735\n",
      "[[8.2]:[8.3]]<mean:2.2299999999999995\n",
      "[[9.3]:[24.6]]<mean:2.554183908\n"
     ]
    }
   ],
   "source": [
    "import pandas as pd\n",
    "\n",
    "df = pd.read_csv(\"../../data/combined_csv_missingval_mean_new.csv\",encoding='iso-8859-1')\n",
    " \n",
    "arr = np.array(df[['pH : Mean : 6.5-8.5','B.O.D. (mg/l) : Mean : < 3 mg/l']])\n",
    "arr=arr[np.argsort(arr[:, 0])]\n",
    "x,y = arr[:, :1], arr[:, 1:]\n",
    "window(df,x,y,2)"
   ]
  },
  {
   "cell_type": "code",
   "execution_count": 6,
   "metadata": {},
   "outputs": [
    {
     "name": "stdout",
     "output_type": "stream",
     "text": [
      "[[736.]:[746.]]>mean:4.65\n",
      "[[915.]:[1124.]]>mean:5.358227848101266\n",
      "[[916.]:[928.]]<mean:0.9333333333333332\n",
      "[[1859.]:[1868.]]>mean:6.333333333333333\n",
      "[[2067.]:[2096.]]>mean:4.966666666666666\n",
      "[[6216.]:[12745.]]>mean:7.58\n"
     ]
    }
   ],
   "source": [
    "import pandas as pd\n",
    "\n",
    "df = pd.read_csv(\"../../data/combined_csv_missingval_mean_new.csv\",encoding='iso-8859-1')\n",
    " \n",
    "arr = np.array(df[['CONDUCTIVITY (µmhos/cm) : Mean','NITRATE- N+ NITRITE-N (mg/l) : Mean']])\n",
    "arr=arr[np.argsort(arr[:, 0])]\n",
    "x,y = arr[:, :1], arr[:, 1:]\n",
    "window(df,x,y,2)"
   ]
  },
  {
   "cell_type": "code",
   "execution_count": 24,
   "metadata": {},
   "outputs": [
    {
     "name": "stdout",
     "output_type": "stream",
     "text": [
      "[[13.]:[22.]]>mean:7172.406677935484\n",
      "[[13.]:[14.]]<mean:2024.9606008695657\n",
      "[[15.]:[20.848713]]<mean:4165.46235235602\n",
      "[[18.]:[20.]]>mean:7262.138174705882\n",
      "[[15.]:[18.]]<mean:2519.626641889764\n",
      "[[17.]:[18.]]<mean:1357.7472599999999\n",
      "[[19.8]:[20.]]<mean:2046.5888316666667\n",
      "[[20.]:[20.848713]]<mean:1669.1310963265305\n",
      "[[14.]:[15.]]<mean:1289.3876290909093\n",
      "[[18.5]:[19.]]<mean:641.4444444444445\n",
      "[[19.8]:[20.]]<mean:2046.5888316666667\n",
      "[[20.]:[20.848713]]<mean:1603.3521216842105\n",
      "[[21.5]:[22.]]<mean:1298.9204714285715\n",
      "[[22.]:[33.]]<mean:1327.9430424273073\n",
      "[[23.4]:[25.]]<mean:728.5277787978143\n",
      "[[24.5]:[25.]]>mean:1214.3077039999998\n",
      "[[23.4]:[23.6]]<mean:22.666666666666668\n",
      "[[23.5]:[23.6]]>mean:29.25\n",
      "[[23.9]:[24.]]<mean:219.07142857142858\n",
      "[[24.]:[24.3]]<mean:345.7439024390244\n"
     ]
    }
   ],
   "source": [
    "import pandas as pd\n",
    "\n",
    "df = pd.read_csv(\"../../data/combined_csv_missingval_mean_new.csv\",encoding='iso-8859-1')\n",
    " \n",
    "arr = np.array(df[['TEMPERATURE ºC : Min','TOTAL COLIFORM (MPN/100ml) : Min : < 5000 MPN/100ml']])\n",
    "arr=arr[np.argsort(arr[:, 0])]\n",
    "x,y = arr[:, :1], arr[:, 1:]\n",
    "window(df,x,y,2)"
   ]
  }
 ],
 "metadata": {
  "kernelspec": {
   "display_name": "Python 3",
   "language": "python",
   "name": "python3"
  },
  "language_info": {
   "codemirror_mode": {
    "name": "ipython",
    "version": 3
   },
   "file_extension": ".py",
   "mimetype": "text/x-python",
   "name": "python",
   "nbconvert_exporter": "python",
   "pygments_lexer": "ipython3",
   "version": "3.7.3"
  }
 },
 "nbformat": 4,
 "nbformat_minor": 2
}
